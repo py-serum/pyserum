{
 "cells": [
  {
   "cell_type": "code",
   "execution_count": 2,
   "metadata": {},
   "outputs": [],
   "source": [
    "from src.market import MARKET_FORMAT, Market\n",
    "\n",
    "market = Market.load(\"https://api.mainnet-beta.solana.com\", \"CAgAeMD7quTdnr6RPa7JySQpjf3irAmefYNdTb6anemq\", None)"
   ]
  },
  {
   "cell_type": "code",
   "execution_count": 3,
   "metadata": {},
   "outputs": [],
   "source": [
    "assert market is not None\n",
    "assert isinstance(market, Market)"
   ]
  },
  {
   "cell_type": "code",
   "execution_count": 4,
   "metadata": {},
   "outputs": [
    {
     "name": "stdout",
     "output_type": "stream",
     "text": [
      "market <src.market.Market object at 0x7f2d1a5dfd10>\n"
     ]
    }
   ],
   "source": [
    "print(\"market\", market)"
   ]
  },
  {
   "cell_type": "code",
   "execution_count": 5,
   "metadata": {},
   "outputs": [
    {
     "name": "stdout",
     "output_type": "stream",
     "text": [
      "AXjn1qHYrAad5nVznXm7Txyp8WmdzJEEi5NM2axSLtnL\n"
     ]
    }
   ],
   "source": [
    "asks = market.load_asks(\"https://api.mainnet-beta.solana.com\")"
   ]
  },
  {
   "cell_type": "code",
   "execution_count": 6,
   "metadata": {},
   "outputs": [
    {
     "name": "stdout",
     "output_type": "stream",
     "text": [
      "100 1\n",
      "Order(order_id=2092672434697906373575521, client_id=11493923523302268913, open_order_address=F447KMxxB5SboGVuR139HJG8fCsCb7ufjdsdtS9sdtAg, fee_tier=0, price=11344.4, price_lots=113444, size=5137000.0, size_lots=51370, side='sell')\n",
      "100 1\n",
      "Order(order_id=2097062759787449246860130, client_id=12072701825659676947, open_order_address=F447KMxxB5SboGVuR139HJG8fCsCb7ufjdsdtS9sdtAg, fee_tier=0, price=11368.2, price_lots=113682, size=5664000.0, size_lots=56640, side='sell')\n",
      "100 1\n",
      "Order(order_id=2104017182303237747819274, client_id=13398840712439307943, open_order_address=F447KMxxB5SboGVuR139HJG8fCsCb7ufjdsdtS9sdtAg, fee_tier=0, price=11405.9, price_lots=114059, size=8844000.0, size_lots=88440, side='sell')\n",
      "100 1\n",
      "Order(order_id=2112373557368628174701080, client_id=12083116759555336340, open_order_address=F447KMxxB5SboGVuR139HJG8fCsCb7ufjdsdtS9sdtAg, fee_tier=0, price=11451.2, price_lots=114512, size=9167200.0, size_lots=91672, side='sell')\n"
     ]
    }
   ],
   "source": [
    "for ask in asks:\n",
    "    print(ask)"
   ]
  }
 ],
 "metadata": {
  "kernelspec": {
   "display_name": "Python 3",
   "language": "python",
   "name": "python3"
  },
  "language_info": {
   "codemirror_mode": {
    "name": "ipython",
    "version": 3
   },
   "file_extension": ".py",
   "mimetype": "text/x-python",
   "name": "python",
   "nbconvert_exporter": "python",
   "pygments_lexer": "ipython3",
   "version": "3.7.5"
  }
 },
 "nbformat": 4,
 "nbformat_minor": 4
}
