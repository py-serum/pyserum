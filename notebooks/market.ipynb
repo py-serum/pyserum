{
 "cells": [
  {
   "cell_type": "code",
   "execution_count": null,
   "metadata": {},
   "outputs": [],
   "source": [
    "from pyserum.market import Market\n",
    "\n",
    "market = Market.load(\"https://api.mainnet-beta.solana.com\", \"CAgAeMD7quTdnr6RPa7JySQpjf3irAmefYNdTb6anemq\", None)"
   ]
  },
  {
   "cell_type": "code",
   "execution_count": null,
   "metadata": {},
   "outputs": [],
   "source": [
    "assert market is not None\n",
    "assert isinstance(market, Market)"
   ]
  },
  {
   "cell_type": "code",
   "execution_count": null,
   "metadata": {},
   "outputs": [],
   "source": [
    "market"
   ]
  },
  {
   "cell_type": "code",
   "execution_count": null,
   "metadata": {},
   "outputs": [],
   "source": [
    "asks = market.load_asks()\n",
    "asks"
   ]
  },
  {
   "cell_type": "code",
   "execution_count": null,
   "metadata": {},
   "outputs": [],
   "source": [
    "from pyserum.market import Market\n",
    "\n",
    "endpoint = \"https://api.mainnet-beta.solana.com/\"\n",
    "market_address = \"CAgAeMD7quTdnr6RPa7JySQpjf3irAmefYNdTb6anemq\" # Address for BTC/USDC\n",
    "\n",
    "# Load the given market\n",
    "market = Market.load(endpoint, market_address, None)\n",
    "asks = market.load_asks()\n",
    "# Show all current ask order\n",
    "print(\"Ask Orders:\")\n",
    "for ask in asks:\n",
    "    print(\"Order id: %d, price: %f, size: %f.\" % (\n",
    "          ask.order_id, ask.order_info.price, ask.order_info.size))\n",
    "\n",
    "print(\"\\n\")\n",
    "# Show all current bid order\n",
    "print(\"Bid Orders:\")\n",
    "bids = market.load_bids()\n",
    "for bid in bids:\n",
    "    print(\"Order id: %d, price: %f, size: %f.\" % (\n",
    "          bid.order_id, bid.order_info.price, bid.order_info.size))"
   ]
  },
  {
   "cell_type": "code",
   "execution_count": null,
   "metadata": {},
   "outputs": [],
   "source": [
    "market.load_fills()\n"
   ]
  },
  {
   "cell_type": "code",
   "execution_count": null,
   "metadata": {},
   "outputs": [],
   "source": []
  }
 ],
 "metadata": {
  "kernelspec": {
   "display_name": "Python 3",
   "language": "python",
   "name": "python3"
  },
  "language_info": {
   "codemirror_mode": {
    "name": "ipython",
    "version": 3
   },
   "file_extension": ".py",
   "mimetype": "text/x-python",
   "name": "python",
   "nbconvert_exporter": "python",
   "pygments_lexer": "ipython3",
   "version": "3.7.3"
  }
 },
 "nbformat": 4,
 "nbformat_minor": 4
}
